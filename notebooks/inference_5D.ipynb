{
 "cells": [
  {
   "cell_type": "markdown",
   "metadata": {},
   "source": [
    "### This notebook computes the joint likelihood in 5 dimensions for the parameters of interest (see below) from pre-computed likelihoods for individual lenses"
   ]
  },
  {
   "cell_type": "code",
   "execution_count": 1,
   "metadata": {},
   "outputs": [
    {
     "name": "stdout",
     "output_type": "stream",
     "text": [
      "B1422\n",
      "fluxes/flux ratios measured:  [0.88  1.    0.474 0.025]\n",
      "uncertainties:  ([0.011363636363636364, 0.01, 0.012765957446808512, None], 0, False)\n",
      "\n",
      "\n",
      "HE0435\n",
      "fluxes/flux ratios measured:  [0.96  0.976 1.    0.65 ]\n",
      "uncertainties:  ([0.05, 0.049, 0.048, 0.056], 0, False)\n",
      "\n",
      "\n",
      "WGD2038\n",
      "fluxes/flux ratios measured:  [0.86 1.   0.79 0.4 ]\n",
      "uncertainties:  ([0.01, 0.01724137931034483, 0.021739130434782608, 0.021739130434782608], 0, False)\n",
      "\n",
      "\n",
      "WGDJ0405\n",
      "fluxes/flux ratios measured:  [0.8  0.52 1.   0.94]\n",
      "uncertainties:  ([0.04, 0.061538461538461535, 0.024, 0.03418803418803419], 0, False)\n",
      "\n",
      "\n",
      "WFI2033\n",
      "fluxes/flux ratios measured:  [1.   0.65 0.5  0.53]\n",
      "uncertainties:  ([0.03, 0.046875, 0.04, 0.03773584905660377], 0, False)\n",
      "\n",
      "\n",
      "PSJ1606\n",
      "fluxes/flux ratios measured:  [1.   1.   0.59 0.79]\n",
      "uncertainties:  ([0.03, 0.03, 0.03333333333333333, 0.02564102564102564], 0, False)\n",
      "\n",
      "\n",
      "WFI2026\n",
      "fluxes/flux ratios measured:  [1.   0.75 0.31 0.28]\n",
      "uncertainties:  ([0.02, 0.02666666666666667, 0.06451612903225806, 0.03571428571428571], 0, False)\n",
      "\n",
      "\n",
      "RXJ0911\n",
      "fluxes/flux ratios measured:  [0.56 1.   0.53 0.24]\n",
      "uncertainties:  ([0.07142857142857142, 0.05, 0.07547169811320754, 0.16666666666666669], 0, False)\n",
      "\n",
      "\n",
      "RXJ1131\n",
      "fluxes/flux ratios measured:  [1.   0.61 0.73 0.12]\n",
      "uncertainties:  ([[0.012345679012345678, 0.024691358024691357], [0.10084033613445378, 0.025210084033613446], None], 1, True)\n",
      "\n",
      "\n",
      "MG0414\n",
      "fluxes/flux ratios measured:  [1.   0.83 0.36 0.16]\n",
      "uncertainties:  ([0.06024096385542169, 0.11111111111111112, 0.11764705882352941], 0, True)\n",
      "\n",
      "\n",
      "PG1115\n",
      "fluxes/flux ratios measured:  [1.   0.93 0.16 0.21]\n",
      "uncertainties:  ([0.06451612903225806, 0.43750000000000006, 0.1904761904761905], 0, True)\n",
      "\n",
      "\n",
      "B0128\n",
      "fluxes/flux ratios measured:  [1.    0.584 0.52  0.506]\n",
      "uncertainties:  ([0.04965753424657535, 0.05576923076923077, 0.06324110671936758], 0, True)\n",
      "\n",
      "\n"
     ]
    }
   ],
   "source": [
    "from lenslikelihood.measurements import flux_measurements, flux_measurement_uncertainties, all_lens_names, all_param_ranges\n",
    "\n",
    "# Note that the syntax for the uncertainties is\n",
    "# {'lens_name': (1-sigma-uncertainty, reference_index, uncertainty_in_ratio)}\n",
    "# where reference_index is the reference image with which to compute the flux ratio, and uncertainty_in_ratio specifies\n",
    "# whether the measurement uncertainty refers to the flux or the flux ratio\n",
    "\n",
    "for name in all_lens_names:\n",
    "    print(name)\n",
    "    print('fluxes/flux ratios measured: ', flux_measurements[name])\n",
    "    print('uncertainties: ', flux_measurement_uncertainties[name])\n",
    "    print('\\n')"
   ]
  },
  {
   "cell_type": "markdown",
   "metadata": {},
   "source": [
    "### Models implemented for the halo mass function and concentration-mass relation\n",
    "\n",
    "The full set of hyper-parameters we're interested in constraining are defined by the parameterizations of the halo mass function and concentration-mass relation. They are $\\Sigma_{\\rm{sub}}$, $\\delta_{\\rm{LOS}}$, $\\Delta \\alpha$, $q$, $c_8$, and $\\beta$. The first four define to the subhalo and field halo mass functions, and the last two define the concentration-mass relation. \n",
    "\n",
    "The field halo mass function is parameterized as\n",
    "\\begin{equation}\n",
    "\\frac{dN_{\\rm{LOS}}}{dm dV} = \\delta_{\\rm{LOS}} \\left(1+\\xi_{\\rm{2halo}}\\right) \\left(\\frac{m}{10^8}\\right)^{\\Delta \\alpha} \\ \\frac{dN_{\\rm{ShethTormen}}}{dm dV}\n",
    "\\end{equation}\n",
    "where $\\delta_{\\rm{LOS}}$ scales the overall normalization, and $\\Delta \\alpha$ parameterizes deviations from the logarithmic slope predicted by CDM around $10^8 M_{\\odot}$. \n",
    "\n",
    "The subhalo mass function is parameterized as\n",
    "\\begin{equation}\n",
    "\\frac{dN_{\\rm{sub}}}{dm dA} \\sim \\Sigma_{\\rm{sub}} \\ \\left(\\frac{m}{10^8}\\right)^{\\alpha + q \\Delta \\alpha}\n",
    "\\end{equation}\n",
    "where $\\Sigma_{\\rm{sub}}$ is the normalization, $\\alpha$ is the logarithmic slope predicted by CDM, $\\Delta \\alpha$ parameterizes deviations from the value predicted by CDM, and $q$ controls the coupling between the line of sight halo mass function slope and the subhalo mass function slope. When $q=1$ the slopes change in the same way, and when $q=0$ the slopes of the subhalo and field halo mass functions are completely decoupled. \n",
    "\n",
    "The concentration-mass relation is parameterized as \n",
    "\n",
    "\\begin{equation}\n",
    "c\\left(M, z\\right) = c_8 \\left(1+z\\right)^{\\zeta} \\left(\\frac{\\nu\\left(M, z\\right)}{\\nu\\left(10^8, z\\right)}\\right)^{-\\beta}\n",
    "\\end{equation}\n",
    "i.e. it is a power-law in the peak height $\\nu$ with normalization $c_8$ at $10^8$ and a logarithmic slope $\\beta$. The parameter $\\zeta$ modifies the redshift evolution and is marginalized over in the sampling. \n",
    "\n",
    "The parameter names used in the python code have the following correspondence: \n",
    "\n",
    "\n",
    "1) sigma_sub = $\\Sigma_{\\rm{sub}}$\n",
    "\n",
    "2) delta_power_law_index = $\\Delta \\alpha$\n",
    "\n",
    "3) c0 = $c_8$\n",
    "\n",
    "4) beta = $\\beta$\n",
    "\n",
    "5) delta_power_law_index_coupling = $q$\n",
    "\n",
    "6) LOS_normalization = $\\delta_{\\rm{LOS}}$"
   ]
  },
  {
   "cell_type": "markdown",
   "metadata": {},
   "source": [
    "Now we compute the likelihood using the package trikde https://github.com/dangilman/trikde"
   ]
  },
  {
   "cell_type": "code",
   "execution_count": 2,
   "metadata": {},
   "outputs": [
    {
     "name": "stdout",
     "output_type": "stream",
     "text": [
      "['B1422', 'HE0435', 'WGD2038', 'WGDJ0405', 'WFI2033', 'PSJ1606', 'WFI2026', 'RXJ0911', 'RXJ1131', 'MG0414', 'PG1115', 'B0128']\n",
      "loading joint likelihoods for lens B1422 ...\n"
     ]
    },
    {
     "ename": "FileNotFoundError",
     "evalue": "[Errno 2] No such file or directory: './../lenslikelihood/precomputed_likelihoods/B1422_joint'",
     "output_type": "error",
     "traceback": [
      "\u001b[0;31m---------------------------------------------------------------------------\u001b[0m",
      "\u001b[0;31mFileNotFoundError\u001b[0m                         Traceback (most recent call last)",
      "\u001b[0;32m<ipython-input-2-3e57c508819e>\u001b[0m in \u001b[0;36m<module>\u001b[0;34m\u001b[0m\n\u001b[1;32m     16\u001b[0m     \u001b[0mfname\u001b[0m \u001b[0;34m=\u001b[0m \u001b[0mbase_path\u001b[0m \u001b[0;34m+\u001b[0m \u001b[0mlens\u001b[0m \u001b[0;34m+\u001b[0m \u001b[0mfilename_extension\u001b[0m\u001b[0;34m\u001b[0m\u001b[0m\n\u001b[1;32m     17\u001b[0m     \u001b[0mprint\u001b[0m\u001b[0;34m(\u001b[0m\u001b[0;34m'loading joint likelihoods for lens '\u001b[0m\u001b[0;34m+\u001b[0m\u001b[0mlens\u001b[0m\u001b[0;34m+\u001b[0m\u001b[0;34m' ...'\u001b[0m\u001b[0;34m)\u001b[0m\u001b[0;34m\u001b[0m\u001b[0m\n\u001b[0;32m---> 18\u001b[0;31m     \u001b[0mf\u001b[0m \u001b[0;34m=\u001b[0m \u001b[0mopen\u001b[0m\u001b[0;34m(\u001b[0m\u001b[0mfname\u001b[0m\u001b[0;34m,\u001b[0m \u001b[0;34m'rb'\u001b[0m\u001b[0;34m)\u001b[0m\u001b[0;34m\u001b[0m\u001b[0m\n\u001b[0m\u001b[1;32m     19\u001b[0m     \u001b[0msingle_lens_likelihood\u001b[0m \u001b[0;34m=\u001b[0m \u001b[0mpickle\u001b[0m\u001b[0;34m.\u001b[0m\u001b[0mload\u001b[0m\u001b[0;34m(\u001b[0m\u001b[0mf\u001b[0m\u001b[0;34m)\u001b[0m\u001b[0;34m\u001b[0m\u001b[0m\n\u001b[1;32m     20\u001b[0m     \u001b[0mf\u001b[0m\u001b[0;34m.\u001b[0m\u001b[0mclose\u001b[0m\u001b[0;34m(\u001b[0m\u001b[0;34m)\u001b[0m\u001b[0;34m\u001b[0m\u001b[0m\n",
      "\u001b[0;31mFileNotFoundError\u001b[0m: [Errno 2] No such file or directory: './../lenslikelihood/precomputed_likelihoods/B1422_joint'"
     ]
    }
   ],
   "source": [
    "from trikde.pdfs import DensitySamples, IndepdendentLikelihoods\n",
    "import os\n",
    "import pickle\n",
    "\n",
    "nbins = 20\n",
    "likelihoods, likelihoods_coupled, likelihoods_decoupled, likelihoods_lowa4 = [], [], [], []\n",
    "\n",
    "filename_extension = '_joint'\n",
    "filename_extension_coupled = '_joint_coupled'\n",
    "filename_extension_decoupled = '_joint_decoupled'\n",
    "filename_extension_lowa4 = '_joint_lowa4'\n",
    "base_path = './../lenslikelihood/precomputed_likelihoods/'\n",
    "print(all_lens_names)\n",
    "for lens in all_lens_names:\n",
    "    \n",
    "    fname = base_path + lens + filename_extension\n",
    "    print('loading joint likelihoods for lens '+lens+' ...')\n",
    "    f = open(fname, 'rb')\n",
    "    single_lens_likelihood = pickle.load(f)\n",
    "    f.close()\n",
    "    likelihoods.append(single_lens_likelihood)\n",
    "    \n",
    "    fname = base_path + lens + filename_extension_coupled\n",
    "    f = open(fname, 'rb')\n",
    "    single_lens_likelihood = pickle.load(f)\n",
    "    f.close()\n",
    "    likelihoods_coupled.append(single_lens_likelihood)\n",
    "    \n",
    "    fname = base_path + lens + filename_extension_decoupled\n",
    "    f = open(fname, 'rb')\n",
    "    single_lens_likelihood = pickle.load(f)\n",
    "    f.close()\n",
    "    likelihoods_decoupled.append(single_lens_likelihood)\n",
    "    \n",
    "    fname = base_path + lens + filename_extension_lowa4\n",
    "    f = open(fname, 'rb')\n",
    "    single_lens_likelihood = pickle.load(f)\n",
    "    f.close()\n",
    "    likelihoods_lowa4.append(single_lens_likelihood)\n",
    "    \n",
    "likelihood = IndepdendentLikelihoods(likelihoods)\n",
    "likelihood_coupled = IndepdendentLikelihoods(likelihoods_coupled)\n",
    "likelihood_decoupled = IndepdendentLikelihoods(likelihoods_decoupled)\n",
    "likelihood_lowa4 = IndepdendentLikelihoods(likelihoods_lowa4)"
   ]
  },
  {
   "cell_type": "markdown",
   "metadata": {},
   "source": [
    "### The joint likelihood/posterior with no modeling assumptions (indepedent, uniform priors on all model parameters). \n",
    "\n",
    "This likelihood includes a marginalization over a term that couples the subhalo mass function slope to the field halo mass function slope"
   ]
  },
  {
   "cell_type": "code",
   "execution_count": null,
   "metadata": {},
   "outputs": [],
   "source": [
    "triangle_plot = TrianglePlot([likelihood])\n",
    "triangle_plot.set_cmap('magma')\n",
    "axes = triangle_plot.make_triplot(filled_contours=False, show_intervals=False, show_contours=False\n",
    "                                 )\n",
    "# can change axis labels"
   ]
  },
  {
   "cell_type": "markdown",
   "metadata": {},
   "source": [
    "### The joint likelihood/posterior assuming the slope of the subhalo mass function tracks the slope of the field halo mass function. \n",
    "\n",
    "This likelihood has a Gaussian prior on q (see equation for subhalo mass function at the top of this notebook) with a mean of 1 and a variance of 0.25. "
   ]
  },
  {
   "cell_type": "code",
   "execution_count": null,
   "metadata": {},
   "outputs": [],
   "source": [
    "triangle_plot = TrianglePlot([likelihood_coupled])\n",
    "triangle_plot.cmap = 'magma'\n",
    "axes = triangle_plot.make_triplot(filled_contours=False, show_intervals=False, show_contours=False)\n",
    "# can change axis labels"
   ]
  },
  {
   "cell_type": "markdown",
   "metadata": {},
   "source": [
    "### The joint likelihood/posterior assuming the slope of the subhalo mass function is completely decoupled from the slope of the field halo mass function. \n",
    "\n",
    "This likelihood has a Gaussian prior on q (see equation for subhalo mass function at the top of this notebook) with a mean of 0 and a variance of 0.25. "
   ]
  },
  {
   "cell_type": "code",
   "execution_count": null,
   "metadata": {},
   "outputs": [],
   "source": [
    "triangle_plot = TrianglePlot([likelihood_decoupled])\n",
    "triangle_plot.cmap = 'magma'\n",
    "axes = triangle_plot.make_triplot(filled_contours=False, show_intervals=False, show_contours=False)\n",
    "# can change axis labels"
   ]
  },
  {
   "cell_type": "markdown",
   "metadata": {},
   "source": [
    "### The effect of boxyness and diskyness\n",
    "\n",
    "The likelihoods displayed above include a marginalization over a parameter $a_4$, which controls the boxyness and diskyness of the macromodel mass profile. We can assess what effect this has on the inference by importance sampling, selecting only realizations with low $a_4$ amplitudes. Black contours show the likelihood with a Gaussian prior on $a_4$ with a mean of 0. and a variance of 0.005, and blue contours show effect of multiplying by a new prior with a mean of 0 and a variance of 0.005. "
   ]
  },
  {
   "cell_type": "code",
   "execution_count": null,
   "metadata": {},
   "outputs": [],
   "source": [
    "from trikde.triangleplot import TrianglePlot\n",
    "\n",
    "triangle_plot = TrianglePlot([likelihood_lowa4])\n",
    "triangle_plot.cmap = 'magma'\n",
    "axes = triangle_plot.make_triplot(filled_contours=False, show_intervals=True, show_contours=True)\n",
    "# can change axis labels"
   ]
  },
  {
   "cell_type": "code",
   "execution_count": null,
   "metadata": {},
   "outputs": [],
   "source": []
  }
 ],
 "metadata": {
  "kernelspec": {
   "display_name": "Python 3",
   "language": "python",
   "name": "python3"
  },
  "language_info": {
   "codemirror_mode": {
    "name": "ipython",
    "version": 3
   },
   "file_extension": ".py",
   "mimetype": "text/x-python",
   "name": "python",
   "nbconvert_exporter": "python",
   "pygments_lexer": "ipython3",
   "version": "3.6.5"
  }
 },
 "nbformat": 4,
 "nbformat_minor": 2
}
