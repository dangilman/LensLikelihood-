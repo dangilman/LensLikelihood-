{
 "cells": [
  {
   "cell_type": "markdown",
   "metadata": {},
   "source": [
    "### This notebook computes the joint likelihood in 5 dimensions for the parameters of interest (see below). See inference_demo for more details about basic usage"
   ]
  },
  {
   "cell_type": "code",
   "execution_count": 1,
   "metadata": {},
   "outputs": [
    {
     "name": "stdout",
     "output_type": "stream",
     "text": [
      "WGDJ0405\n",
      "fluxes/flux ratios measured:  [0.8  0.52 1.   0.94]\n",
      "uncertainties:  ([0.04, 0.061538461538461535, 0.024, 0.03418803418803419], 0, False)\n",
      "\n",
      "\n",
      "HE0435\n",
      "fluxes/flux ratios measured:  [0.96  0.976 1.    0.65 ]\n",
      "uncertainties:  ([0.05, 0.049, 0.048, 0.056], 0, False)\n",
      "\n",
      "\n",
      "WGD2038\n",
      "fluxes/flux ratios measured:  [0.86 1.   0.79 0.4 ]\n",
      "uncertainties:  ([0.01, 0.01724137931034483, 0.021739130434782608, 0.021739130434782608], 0, False)\n",
      "\n",
      "\n",
      "B1422\n",
      "fluxes/flux ratios measured:  [0.88  1.    0.474 0.025]\n",
      "uncertainties:  ([0.011363636363636364, 0.01, 0.012765957446808512, None], 0, False)\n",
      "\n",
      "\n",
      "WFI2033\n",
      "fluxes/flux ratios measured:  [1.   0.65 0.5  0.53]\n",
      "uncertainties:  ([0.03, 0.046875, 0.04, 0.03773584905660377], 0, False)\n",
      "\n",
      "\n",
      "PSJ1606\n",
      "fluxes/flux ratios measured:  [1.   1.   0.59 0.79]\n",
      "uncertainties:  ([0.03, 0.03, 0.03333333333333333, 0.02564102564102564], 0, False)\n",
      "\n",
      "\n",
      "WFI2026\n",
      "fluxes/flux ratios measured:  [1.   0.75 0.31 0.28]\n",
      "uncertainties:  ([0.02, 0.02666666666666667, 0.06451612903225806, 0.03571428571428571], 0, False)\n",
      "\n",
      "\n",
      "RXJ0911\n",
      "fluxes/flux ratios measured:  [0.56 1.   0.53 0.24]\n",
      "uncertainties:  ([0.07142857142857142, 0.05, 0.07547169811320754, 0.16666666666666669], 0, False)\n",
      "\n",
      "\n",
      "RXJ1131\n",
      "fluxes/flux ratios measured:  [1.   0.61 0.73 0.12]\n",
      "uncertainties:  ([[0.012345679012345678, 0.024691358024691357], [0.10084033613445378, 0.025210084033613446], None], 1, True)\n",
      "\n",
      "\n",
      "MG0414\n",
      "fluxes/flux ratios measured:  [1.   0.83 0.36 0.16]\n",
      "uncertainties:  ([0.06024096385542169, 0.11111111111111112, 0.11764705882352941], 0, True)\n",
      "\n",
      "\n",
      "PG1115\n",
      "fluxes/flux ratios measured:  [1.   0.93 0.16 0.21]\n",
      "uncertainties:  ([0.06451612903225806, 0.43750000000000006, 0.1904761904761905], 0, True)\n",
      "\n",
      "\n"
     ]
    }
   ],
   "source": [
    "from lenslikelihood.measurements import flux_measurements, flux_measurement_uncertainties, all_lens_names, all_param_ranges\n",
    "\n",
    "# Note that the syntax for the uncertainties is\n",
    "# {'lens_name': (1-sigma-uncertainty, reference_index, uncertainty_in_ratio)}\n",
    "# where reference_index is the reference image with which to compute the flux ratio, and uncertainty_in_ratio specifies\n",
    "# whether the measurement uncertainty refers to the flux or the flux ratio\n",
    "\n",
    "for name in all_lens_names:\n",
    "    print(name)\n",
    "    print('fluxes/flux ratios measured: ', flux_measurements[name])\n",
    "    print('uncertainties: ', flux_measurement_uncertainties[name])\n",
    "    print('\\n')"
   ]
  },
  {
   "cell_type": "markdown",
   "metadata": {},
   "source": [
    "### Models implemented for the halo mass function and concentration-mass relation\n",
    "\n",
    "The full set of hyper-parameters we're interested in constraining are defined by the parameterizations of the halo mass function and concentration-mass relation. They are $\\Sigma_{\\rm{sub}}$, $\\delta_{\\rm{LOS}}$, $\\Delta \\alpha$, $q$, $c_8$, and $\\beta$. The first four define to the subhalo and field halo mass functions, and the last two define the concentration-mass relation. \n",
    "\n",
    "The field halo mass function is parameterized as\n",
    "\\begin{equation}\n",
    "\\frac{dN_{\\rm{LOS}}}{dm dV} = \\delta_{\\rm{LOS}} \\left(1+\\xi_{\\rm{2halo}}\\right) \\left(\\frac{m}{10^8}\\right)^{\\Delta \\alpha} \\ \\frac{dN_{\\rm{ShethTormen}}}{dm dV}\n",
    "\\end{equation}\n",
    "where $\\delta_{\\rm{LOS}}$ scales the overall normalization, and $\\Delta \\alpha$ parameterizes deviations from the logarithmic slope predicted by CDM around $10^8 M_{\\odot}$. \n",
    "\n",
    "The subhalo mass function is parameterized as\n",
    "\\begin{equation}\n",
    "\\frac{dN_{\\rm{sub}}}{dm dA} \\sim \\Sigma_{\\rm{sub}} \\ \\left(\\frac{m}{10^8}\\right)^{\\alpha + q \\Delta \\alpha}\n",
    "\\end{equation}\n",
    "where $\\Sigma_{\\rm{sub}}$ is the normalization, $\\alpha$ is the logarithmic slope predicted by CDM, $\\Delta \\alpha$ parameterizes deviations from the value predicted by CDM, and $q$ controls the coupling between the line of sight halo mass function slope and the subhalo mass function slope. When $q=1$ the slopes change in the same way, and when $q=0$ the slopes of the subhalo and field halo mass functions are completely decoupled. \n",
    "\n",
    "The concentration-mass relation is parameterized as \n",
    "\n",
    "\\begin{equation}\n",
    "c\\left(M, z\\right) = c_8 \\left(1+z\\right)^{\\zeta} \\left(\\frac{\\nu\\left(M, z\\right)}{\\nu\\left(10^8, z\\right)}\\right)^{-\\beta}\n",
    "\\end{equation}\n",
    "i.e. it is a power-law in the peak height $\\nu$ with normalization $c_8$ at $10^8$ and a logarithmic slope $\\beta$. The parameter $\\zeta$ modifies the redshift evolution and is marginalized over in the sampling. \n",
    "\n",
    "The parameter names used in the python code have the following correspondence: \n",
    "\n",
    "\n",
    "1) sigma_sub = $\\Sigma_{\\rm{sub}}$\n",
    "\n",
    "2) delta_power_law_index = $\\Delta \\alpha$\n",
    "\n",
    "3) c0 = $c_8$\n",
    "\n",
    "4) beta = $\\beta$\n",
    "\n",
    "5) delta_power_law_index_coupling = $q$\n",
    "\n",
    "6) LOS_normalization = $\\delta_{\\rm{LOS}}$"
   ]
  },
  {
   "cell_type": "markdown",
   "metadata": {},
   "source": [
    "### Example inference on three parameters with a subset of lenses\n",
    "\n",
    "First load the model samples, define what parameters we want to look at"
   ]
  },
  {
   "cell_type": "code",
   "execution_count": 2,
   "metadata": {},
   "outputs": [
    {
     "name": "stdout",
     "output_type": "stream",
     "text": [
      "[[0.0, 2.0], [0.0, 6.0], [1, 200], [-0.6, 0.9], [0, 0.1]]\n",
      "WGDJ0405\n",
      "HE0435\n",
      "WGD2038\n",
      "B1422\n",
      "WFI2033\n",
      "PSJ1606\n",
      "WFI2026\n",
      "RXJ0911\n",
      "RXJ1131\n",
      "MG0414\n",
      "PG1115\n",
      "<lenslikelihood.extract_raw_samples.RawLensSamples object at 0x7ff7fb8a2978>\n"
     ]
    }
   ],
   "source": [
    "import pickle\n",
    "import matplotlib.pyplot as plt\n",
    "# specify the parameter names\n",
    "param_names = ['LOS_normalization', 'beta', 'c0', 'delta_power_law_index', 'sigma_sub']\n",
    "param_ranges = [all_param_ranges[name] for name in param_names]\n",
    "print(param_ranges)\n",
    "# specify the lenses to use\n",
    "lenses = all_lens_names\n",
    "\n",
    "raw_samples_dict = {}\n",
    "# load the forward model samples\n",
    "for lens in lenses:\n",
    "    print(lens)\n",
    "    f = open('./../raw_samples/'+lens, 'rb')\n",
    "    raw_samples = pickle.load(f)\n",
    "    f.close()\n",
    "    raw_samples_dict[lens] = raw_samples \n",
    "    \n",
    "print(raw_samples)"
   ]
  },
  {
   "cell_type": "markdown",
   "metadata": {},
   "source": [
    "The next cell computes the joint likelihood without any importance sampling weights."
   ]
  },
  {
   "cell_type": "code",
   "execution_count": 13,
   "metadata": {},
   "outputs": [
    {
     "name": "stdout",
     "output_type": "stream",
     "text": [
      "working on lens WGDJ0405... \n",
      "working on lens HE0435... \n",
      "working on lens WGD2038... \n",
      "working on lens B1422... \n",
      "working on lens WFI2033... \n",
      "working on lens PSJ1606... \n",
      "working on lens WFI2026... \n",
      "working on lens RXJ0911... \n",
      "working on lens RXJ1131... \n",
      "working on lens MG0414... \n",
      "working on lens PG1115... \n"
     ]
    },
    {
     "data": {
      "image/png": "[encoded data removed]",
      "text/plain": [
       "<Figure size 576x576 with 1 Axes>"
      ]
     },
     "metadata": {},
     "output_type": "display_data"
    }
   ],
   "source": [
    "# compute the summary statistics, retaining the 1500 sets of model parameters with lowest summary statistic\n",
    "n_samples_keep = 1000\n",
    "samples_dict = {}\n",
    "fig = plt.figure(1)\n",
    "fig.set_size_inches(8,8)\n",
    "for lens in lenses:\n",
    "    print('working on lens '+str(lens) + '... ')\n",
    "    importance_sampling_weights = None\n",
    "    measured_fluxes = flux_measurements[lens]\n",
    "    measurement_uncertainties = flux_measurement_uncertainties[lens][0]\n",
    "    reference_index = flux_measurement_uncertainties[lens][1]\n",
    "    uncertaintiy_in_flux_ratios = flux_measurement_uncertainties[lens][2]\n",
    "\n",
    "    samples, full_samples, statistic = raw_samples_dict[lens].sample_with_abc(measured_fluxes, \n",
    "                                                                   param_names, \n",
    "                                                                   measurement_uncertainties, \n",
    "                                                                   reference_index, \n",
    "                                                                   n_samples_keep,  \n",
    "                                                                   uncertaintiy_in_ratios=uncertaintiy_in_flux_ratios,\n",
    "                                                                   importance_sampling_weights=importance_sampling_weights)\n",
    "    plt.hist(statistic, alpha=0.5, label=lens)\n",
    "    samples_dict[lens] = samples\n",
    "\n",
    "# the histogram shows the distribution of the retained summary statistics\n",
    "plt.legend(fontsize=12)\n",
    "plt.xlim(0., 0.15)\n",
    "plt.xlabel('summary statistic', fontsize=14)\n",
    "plt.show()"
   ]
  },
  {
   "cell_type": "markdown",
   "metadata": {},
   "source": [
    "The next cell computes the joint likelihood with importance sampling weights, selecting only samples with delta_power_law_index_coupling (or 'q') close to 1. This makes the subhalo mass function track the slope of the field halo mass function, hence the name \"coupled\""
   ]
  },
  {
   "cell_type": "code",
   "execution_count": 14,
   "metadata": {},
   "outputs": [
    {
     "name": "stdout",
     "output_type": "stream",
     "text": [
      "working on lens WGDJ0405... \n",
      "number of samples before importance sampling:  5052400\n",
      "number of samples after importance sampling:  1582656\n",
      "working on lens HE0435... \n",
      "number of samples before importance sampling:  3852203\n",
      "number of samples after importance sampling:  1207807\n",
      "working on lens WGD2038... \n",
      "number of samples before importance sampling:  2471754\n",
      "number of samples after importance sampling:  775267\n",
      "working on lens B1422... \n",
      "number of samples before importance sampling:  2443827\n",
      "number of samples after importance sampling:  766280\n",
      "working on lens WFI2033... \n",
      "number of samples before importance sampling:  3445292\n",
      "number of samples after importance sampling:  1079342\n",
      "working on lens PSJ1606... \n",
      "number of samples before importance sampling:  2467648\n",
      "number of samples after importance sampling:  773678\n",
      "working on lens WFI2026... \n",
      "number of samples before importance sampling:  2469173\n",
      "number of samples after importance sampling:  774022\n",
      "working on lens RXJ0911... \n",
      "number of samples before importance sampling:  4604702\n",
      "number of samples after importance sampling:  1435796\n",
      "working on lens RXJ1131... \n",
      "number of samples before importance sampling:  9240729\n",
      "number of samples after importance sampling:  2894772\n",
      "working on lens MG0414... \n",
      "number of samples before importance sampling:  1364100\n",
      "number of samples after importance sampling:  426705\n",
      "working on lens PG1115... \n",
      "number of samples before importance sampling:  2469780\n",
      "number of samples after importance sampling:  774412\n"
     ]
    },
    {
     "data": {
      "image/png": "[encoded data removed]",
      "text/plain": [
       "<Figure size 576x576 with 1 Axes>"
      ]
     },
     "metadata": {},
     "output_type": "display_data"
    }
   ],
   "source": [
    "# compute the summary statistics, retaining the 1500 sets of model parameters with lowest summary statistic\n",
    "samples_dict_coupled = {}\n",
    "fig = plt.figure(1)\n",
    "fig.set_size_inches(8,8)\n",
    "for lens in lenses:\n",
    "    print('working on lens '+str(lens) + '... ')\n",
    "    importance_sampling_weights = {'delta_power_law_index_coupling': [1., 0.25]}\n",
    "    measured_fluxes = flux_measurements[lens]\n",
    "    measurement_uncertainties = flux_measurement_uncertainties[lens][0]\n",
    "    reference_index = flux_measurement_uncertainties[lens][1]\n",
    "    uncertaintiy_in_flux_ratios = flux_measurement_uncertainties[lens][2]\n",
    "    samples, full_samples, statistic = raw_samples_dict[lens].sample_with_abc(flux_measurements[lens], \n",
    "                                                                   param_names, \n",
    "                                                                   measurement_uncertainties, \n",
    "                                                                   reference_index, \n",
    "                                                                   n_samples_keep,  \n",
    "                                                                   uncertaintiy_in_ratios=uncertaintiy_in_flux_ratios,\n",
    "                                                                   importance_sampling_weights=importance_sampling_weights)\n",
    "    plt.hist(statistic, alpha=0.5, label=lens)\n",
    "    samples_dict_coupled[lens] = samples\n",
    "    \n",
    "# the histogram shows the distribution of the retained summary statistics\n",
    "plt.legend(fontsize=12)\n",
    "plt.xlim(0., 0.2)\n",
    "plt.xlabel('summary statistic', fontsize=14)\n",
    "plt.show()"
   ]
  },
  {
   "cell_type": "markdown",
   "metadata": {},
   "source": [
    "Now we compute the likelihood using the package trikde https://github.com/dangilman/trikde"
   ]
  },
  {
   "cell_type": "code",
   "execution_count": null,
   "metadata": {},
   "outputs": [
    {
     "name": "stdout",
     "output_type": "stream",
     "text": [
      "computing joint likelihoods for lens WGDJ0405 ...\n",
      "computing joint likelihoods for lens HE0435 ...\n",
      "computing joint likelihoods for lens WGD2038 ...\n",
      "computing joint likelihoods for lens B1422 ...\n",
      "computing joint likelihoods for lens WFI2033 ...\n",
      "computing joint likelihoods for lens PSJ1606 ...\n"
     ]
    }
   ],
   "source": [
    "from trikde.pdfs import DensitySamples, IndepdendentLikelihoods\n",
    "import os\n",
    "\n",
    "nbins = 20\n",
    "likelihoods, likelihoods_coupled = [], []\n",
    "\n",
    "load_from_pickle = False # if True, will look for a pre-computed DensitySamples class\n",
    "save_to_pickle = True # if True, will pickle each class for accelerated later use; \n",
    "# save_to_pickle=True will do nothing if load_from_pickle=True\n",
    "\n",
    "filename_extension = '_joint'\n",
    "filename_extension_coupled = '_joint_coupled'\n",
    "base_path = './../lenslikelihood/precomputed_likelihoods/'\n",
    "\n",
    "for lens in lenses:\n",
    "    \n",
    "    fname = base_path + lens + filename_extension\n",
    "    if load_from_pickle and os.path.exists(fname):\n",
    "        print('loading joint likelihoods for lens '+lens+' ...')\n",
    "        f = open(fname, 'rb')\n",
    "        single_lens_likelihood = pickle.load(f)\n",
    "        f.close()\n",
    "    else:\n",
    "        print('computing joint likelihoods for lens '+lens+' ...')\n",
    "        lens_samples = samples_dict[lens]\n",
    "        weights = None\n",
    "        single_lens_likelihood = DensitySamples(lens_samples, param_names, weights, \n",
    "                                 param_ranges, nbins=nbins, use_kde=True, bandwidth_scale=1.)\n",
    "        if save_to_pickle:\n",
    "            f = open(fname, 'wb')\n",
    "            pickle.dump(single_lens_likelihood, f)\n",
    "            f.close()\n",
    "    likelihoods.append(single_lens_likelihood)\n",
    "    \n",
    "    fname = base_path + lens + filename_extension_coupled\n",
    "    if load_from_pickle and os.path.exists(fname):\n",
    "        f = open(fname, 'rb')\n",
    "        single_lens_likelihood = pickle.load(f)\n",
    "        f.close()\n",
    "    else:\n",
    "        lens_samples = samples_dict_coupled[lens]\n",
    "        weights = None\n",
    "        single_lens_likelihood = DensitySamples(lens_samples, param_names, weights, \n",
    "                                 param_ranges, nbins=nbins, use_kde=True, bandwidth_scale=1.)\n",
    "        if save_to_pickle:\n",
    "            f = open(fname, 'wb')\n",
    "            pickle.dump(single_lens_likelihood, f)\n",
    "            f.close()\n",
    "    likelihoods_coupled.append(single_lens_likelihood)\n",
    "    \n",
    "likelihood = IndepdendentLikelihoods(likelihoods)\n",
    "likelihood_coupled = IndepdendentLikelihoods(likelihoods_coupled)"
   ]
  },
  {
   "cell_type": "markdown",
   "metadata": {},
   "source": [
    "### The joint likelihood/posterior with no modeling assumptions (indepedent, uniform priors on all model parameters). \n",
    "\n",
    "This likelihood includes a marginalization over a term that couples the subhalo mass function slope to the field halo mass function slope"
   ]
  },
  {
   "cell_type": "code",
   "execution_count": null,
   "metadata": {},
   "outputs": [],
   "source": [
    "from trikde.triangleplot import TrianglePlot\n",
    "\n",
    "triangle_plot = TrianglePlot([likelihood])\n",
    "triangle_plot.set_cmap('magma')\n",
    "axes = triangle_plot.make_triplot(filled_contours=False, show_intervals=False, show_contours=False\n",
    "                                 )\n",
    "# can change axis labels"
   ]
  },
  {
   "cell_type": "markdown",
   "metadata": {},
   "source": [
    "### The joint likelihood/posterior assuming the slope of the subhalo mass function tracks the slope of the field halo mass function. \n",
    "\n",
    "This likelihood has a Gaussian prior on q (see equation for subhalo mass function at the top of this notebook) with a mean of 1 and a variance of 0.25. "
   ]
  },
  {
   "cell_type": "code",
   "execution_count": null,
   "metadata": {},
   "outputs": [],
   "source": [
    "from trikde.triangleplot import TrianglePlot\n",
    "\n",
    "triangle_plot = TrianglePlot([likelihood_coupled])\n",
    "triangle_plot.cmap = 'magma'\n",
    "axes = triangle_plot.make_triplot(filled_contours=False, show_intervals=False, show_contours=False)\n",
    "# can change axis labels"
   ]
  },
  {
   "cell_type": "code",
   "execution_count": null,
   "metadata": {},
   "outputs": [],
   "source": []
  }
 ],
 "metadata": {
  "kernelspec": {
   "display_name": "Python 3",
   "language": "python",
   "name": "python3"
  },
  "language_info": {
   "codemirror_mode": {
    "name": "ipython",
    "version": 3
   },
   "file_extension": ".py",
   "mimetype": "text/x-python",
   "name": "python",
   "nbconvert_exporter": "python",
   "pygments_lexer": "ipython3",
   "version": "3.6.5"
  }
 },
 "nbformat": 4,
 "nbformat_minor": 2
}
